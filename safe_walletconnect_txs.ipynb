{
 "cells": [
  {
   "cell_type": "markdown",
   "metadata": {},
   "source": [
    "Assignment: \n",
    "Please write a script that uses this endpoint to count the number of\n",
    "“WalletConnect transactions” made with this Safe.\n",
    "\n",
    "“WalletConnect transactions” are those that contain the word “WalletConnect” in\n",
    "the “origin” field of the response. A description of the return data form can be\n",
    "found here. It’s the endpoint called “safes_multisig-transactions_list”."
   ]
  },
  {
   "cell_type": "code",
   "execution_count": 1,
   "metadata": {},
   "outputs": [],
   "source": [
    "import requests\n",
    "import json"
   ]
  },
  {
   "cell_type": "code",
   "execution_count": 18,
   "metadata": {},
   "outputs": [
    {
     "name": "stdout",
     "output_type": "stream",
     "text": [
      "100\n"
     ]
    }
   ],
   "source": [
    "# Get result from Safe API: \n",
    "result = requests.get(\"https://safe-transaction-mainnet.safe.global/api/v1/safes/0xBbA4C8eB57DF16c4CfAbe4e9A3Ab697A3e0C65D8/multisig-transactions/\")\n",
    "alltx = result.json()\n",
    "\n",
    "# print(\"Total transactions: \", len(alltx))\n",
    "print(len(alltx['results']))"
   ]
  },
  {
   "cell_type": "code",
   "execution_count": 19,
   "metadata": {},
   "outputs": [],
   "source": [
    "# print alltx to eyeball result\n",
    "# print(json.dumps(alltx, indent=4))\n"
   ]
  },
  {
   "cell_type": "code",
   "execution_count": 20,
   "metadata": {},
   "outputs": [
    {
     "name": "stdout",
     "output_type": "stream",
     "text": [
      "dict_keys(['count', 'next', 'previous', 'results', 'countUniqueNonce'])\n"
     ]
    }
   ],
   "source": [
    "print(alltx.keys())"
   ]
  },
  {
   "cell_type": "code",
   "execution_count": 21,
   "metadata": {},
   "outputs": [
    {
     "name": "stdout",
     "output_type": "stream",
     "text": [
      "dict_keys(['safe', 'to', 'value', 'data', 'operation', 'gasToken', 'safeTxGas', 'baseGas', 'gasPrice', 'refundReceiver', 'nonce', 'executionDate', 'submissionDate', 'modified', 'blockNumber', 'transactionHash', 'safeTxHash', 'executor', 'isExecuted', 'isSuccessful', 'ethGasPrice', 'maxFeePerGas', 'maxPriorityFeePerGas', 'gasUsed', 'fee', 'origin', 'dataDecoded', 'confirmationsRequired', 'confirmations', 'trusted', 'signatures'])\n"
     ]
    }
   ],
   "source": [
    "print(alltx['results'][0].keys())"
   ]
  },
  {
   "cell_type": "code",
   "execution_count": 22,
   "metadata": {},
   "outputs": [],
   "source": [
    "# Now filter alltx['results] where 'origin' contains the word 'walletconnect'\n",
    "walletconnect_txs = [tx for tx in alltx['results'] if 'WalletConnect' in tx['origin']]\n",
    "\n",
    "# Uncomment the following line to eyeball the result\n",
    "# print(json.dumps(walletconnect_txs, indent=4))\n"
   ]
  },
  {
   "cell_type": "code",
   "execution_count": 23,
   "metadata": {},
   "outputs": [
    {
     "name": "stdout",
     "output_type": "stream",
     "text": [
      "Total walletconnect transactions:  13\n"
     ]
    }
   ],
   "source": [
    "print(\"Total walletconnect transactions: \", len(walletconnect_txs))"
   ]
  },
  {
   "cell_type": "markdown",
   "metadata": {},
   "source": [
    "So out of 100 transactions, 13 were made with WalletConnect."
   ]
  },
  {
   "cell_type": "markdown",
   "metadata": {},
   "source": []
  }
 ],
 "metadata": {
  "kernelspec": {
   "display_name": "base",
   "language": "python",
   "name": "python3"
  },
  "language_info": {
   "codemirror_mode": {
    "name": "ipython",
    "version": 3
   },
   "file_extension": ".py",
   "mimetype": "text/x-python",
   "name": "python",
   "nbconvert_exporter": "python",
   "pygments_lexer": "ipython3",
   "version": "3.11.3"
  },
  "orig_nbformat": 4
 },
 "nbformat": 4,
 "nbformat_minor": 2
}
